{
 "cells": [
  {
   "cell_type": "code",
   "execution_count": 4,
   "id": "3da69c9d-9e0f-41fd-abea-71f24c09bc1a",
   "metadata": {},
   "outputs": [
    {
     "data": {
      "text/plain": [
       "'Buddy'"
      ]
     },
     "execution_count": 4,
     "metadata": {},
     "output_type": "execute_result"
    }
   ],
   "source": [
    "# 1.Discuss string slicing and provide examples.\n",
    "\n",
    "# Ans:-\n",
    "# String slicing means obtaning sub-string by slicing the given string from start to end.\n",
    "# Examples : \n",
    "my_string = \"Hello World\" # It is the string used to slice\n",
    "my_string[6:12] #Output:- 'World' >> # Output is the sub_string of my_string\n",
    "my_strn = \"Hey Buddy\"\n",
    "my_strn[4:9]"
   ]
  },
  {
   "cell_type": "code",
   "execution_count": 5,
   "id": "f06bf9b6-f804-42fc-8901-91932fdeef06",
   "metadata": {},
   "outputs": [],
   "source": [
    "# 2. Explain the Key features of lists in python.\n",
    "\n",
    "# Ans:-\n",
    "# key features of list:\n",
    "# I. Lists are mutable : They can be changed after the list is defined.\n",
    "# II. Lists are orderd : Newly added element will be will be placed at the end of the lists.\n",
    "# III. Lists are Indexed: Every list associated from the index, and index start form 0.\n",
    "# IV. Dupliacte values: Lists allow duplicate values.\n",
    "# V. Iterable: Lists are capable of returning its members one at a time, permitting it to be iterated over in a for-loop."
   ]
  },
  {
   "cell_type": "code",
   "execution_count": 6,
   "id": "5cdb5594-467c-43cc-8340-2ebc4d9bbef8",
   "metadata": {},
   "outputs": [],
   "source": [
    "# 3. Describe how to access, modify and delete elements in a list with examples.\n",
    "# Ans:-\n",
    "# Access list: To get the element in the list square bracket notation is used list[index]\n",
    "# Example: \n",
    "nums = [1,2,3,4,5]\n",
    "nums[3] # Output: 4 >> at index 3, 4 is the element.\n",
    "# Modify List: To change the particular defined list by using .append(), .remove(),,,. etc.\n",
    "# Examples:\n",
    "nums = [1,2,3,4,5]\n",
    "nums.append(8) # Output: [1,2,3,4,5,8] , 8 has been added to the last index in the list\n",
    "# Delete elements in list: To delete the element in the particular index from the defined list \" del list_name[ ] or list_name.remove(element) or list_name.pop()\" is used.\n",
    "# Examples:\n",
    "nums = [1,2,3,4,5]\n",
    "nums.remove(3) # Output: [1,2,4,5], removes 3 from the nums list."
   ]
  },
  {
   "cell_type": "code",
   "execution_count": 24,
   "id": "e741744e-aa45-4562-a632-b72e27e70d64",
   "metadata": {},
   "outputs": [
    {
     "name": "stdout",
     "output_type": "stream",
     "text": [
      "original list [1, 2, 3, 4, 5]\n",
      "(1, 2, 3, 4, 5, 6)\n"
     ]
    }
   ],
   "source": [
    "# 4. Compare and contrast tuples and lists with examples.\n",
    "# Ans: \n",
    "# Difference between tuples and Lists are:\n",
    "# 1. Tuples are immutabel and Lists are mutable.\n",
    "# 2. Tuples consume less memory whereas lists consume more memory compared to tuples.\n",
    "# 3. In Tuples the implication of iterations is comparatively Faster wheraas lists are time-consuming for implication of iterations.\n",
    "# 4. Erros may occur in lists whereas in  tuples  errors are far more less.\n",
    "# Examples:\n",
    "nums = [1,2,3,4,5]\n",
    "print(\"original list\", nums) # Output: original list [1,2,3,4,5]\n",
    "\n",
    "numbers = (1,2,3,4,5,6)\n",
    "print(numbers)  # Output: (1,2,3,4,5,6)"
   ]
  },
  {
   "cell_type": "code",
   "execution_count": 25,
   "id": "30dd4593-e518-4e6c-b61e-3c65d1bb0983",
   "metadata": {},
   "outputs": [
    {
     "data": {
      "text/plain": [
       "{1, 2, 3, 4}"
      ]
     },
     "execution_count": 25,
     "metadata": {},
     "output_type": "execute_result"
    }
   ],
   "source": [
    "# 5. Describe the key features of sets and provide examples of their use.\n",
    "# Ans:\n",
    "# 1. Sets are unordered\n",
    "# 2. Sets are unindexed\n",
    "# 3. sets are immutable\n",
    "# 4. removes the dupliactes.\n",
    "# 5. Can store only immutable types.\n",
    "# Examples:\n",
    "nums = {1,2,3,4,2,3,4} # output: {1,2,3,4}>> removes the duplicates\n",
    "# Example: Computing standard math operations such as union, intersection, difference, and symmetric difference."
   ]
  },
  {
   "cell_type": "code",
   "execution_count": null,
   "id": "16d03ba0-a1b7-4f3c-9fa2-b105c4353ae8",
   "metadata": {},
   "outputs": [],
   "source": [
    "# 6. Discuss the use cases of tuples and sets in Python programming.\n",
    "# Ans:\n",
    "# Tuples:\n",
    "# Tuples are used to store multiple items in a single variable. Tuple is one of 4 built-in data types in \n",
    "#    python used to store collections of data, the other 3 are List, Set, and Dictionary, all with different \n",
    "#    qualities and usage. A tuple is a collection which is ordered and unchangeable.\n",
    "# Sets:\n",
    "# A common use of sets in Python is computing standard math operations such as union, intersection, \n",
    "#    difference, and symmetric difference."
   ]
  },
  {
   "cell_type": "code",
   "execution_count": 31,
   "id": "8d46ebdc-f1eb-4f07-a532-a62dfac855d7",
   "metadata": {},
   "outputs": [
    {
     "data": {
      "text/plain": [
       "{'brand': 'TATA', 'Year': '2008'}"
      ]
     },
     "execution_count": 31,
     "metadata": {},
     "output_type": "execute_result"
    }
   ],
   "source": [
    "# 7. Describe how to add, modify and delete items in a dictionary with examples.\n",
    "# Ans:\n",
    "\n",
    "# Adding elemments in dictionary: \n",
    "# To add a new item in the dictionary, you need to add a new key and insert a new value respective to it.\n",
    "# Example:-\n",
    "dic = { \"key1\": \"Great\", \"key2\": \"Greatest\"}\n",
    "dic[\"Key3\"] = \"Goat\" # adds new item in the next to last index of dic\n",
    "\n",
    "# Modify of dictionary:\n",
    "# updates the dictionary with the elements from another dictionary object or from an iterable of key/value pairs.\n",
    "# Examples:-\n",
    "dic1 = {1:\"Google\", 2:\"OpenAI\", 3:\"Facebook\", 4:\"Apple\"}\n",
    "dic2 = {1:\"Krutrium\"}\n",
    "dic1.update(dic2) # update krutrium in placeof Google\n",
    "dic1\n",
    "\n",
    "# Delete Items in dictionary:-\n",
    "# Removes the item from the dictionary.\n",
    "# There are several methods for removingg item (del, .pop(), .clear())\n",
    "# Examples:-\n",
    "dic3 = {\n",
    "    \"brand\": \"TATA\",\n",
    "    \"model\": \"Nano\",\n",
    "    \"Year\": \"2008\"\n",
    "}\n",
    "del dic3[\"model\"]  # Removes \"model\": \"Nano\"\n",
    "dic3"
   ]
  },
  {
   "cell_type": "code",
   "execution_count": null,
   "id": "6da46173-64b0-493b-a7a2-c86c4c34b183",
   "metadata": {},
   "outputs": [],
   "source": [
    "# 8. Discuss the importance of dictionary keys being immutable and provide examples.\n",
    "# Ans:-\n",
    "\n",
    "# The hash table implementation of dictionaries uses a hash value calculated from the key value to find the \n",
    "#    key. If the key were a mutable object, its value could change, and thus its hash could also change.\n",
    "# Examples:-\n",
    "# 1.\n",
    "dic3 = {\n",
    "    \"brand\": \"TATA\",\n",
    "    \"model\": \"Nano\",\n",
    "    \"Year\": \"2008\"\n",
    "}\n",
    "dic3\n",
    "\n",
    "# 2.\n",
    "dic = { \"key1\": \"Great\", \"key2\": \"Greatest\"}\n",
    "dic"
   ]
  },
  {
   "cell_type": "code",
   "execution_count": null,
   "id": "f0c07a31-6f00-41a0-9776-0e1d3c8baae3",
   "metadata": {},
   "outputs": [],
   "source": []
  }
 ],
 "metadata": {
  "kernelspec": {
   "display_name": "Python 3 (ipykernel)",
   "language": "python",
   "name": "python3"
  },
  "language_info": {
   "codemirror_mode": {
    "name": "ipython",
    "version": 3
   },
   "file_extension": ".py",
   "mimetype": "text/x-python",
   "name": "python",
   "nbconvert_exporter": "python",
   "pygments_lexer": "ipython3",
   "version": "3.10.8"
  }
 },
 "nbformat": 4,
 "nbformat_minor": 5
}
